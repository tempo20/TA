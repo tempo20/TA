{
 "cells": [
  {
   "cell_type": "markdown",
   "metadata": {},
   "source": [
    "Sources:\n",
    "https://www.sciencedirect.com/science/article/pii/S1877050922011516?ref=pdf_download&fr=RR-9&rr=8c3f05208fd2ab12\n"
   ]
  },
  {
   "cell_type": "markdown",
   "metadata": {},
   "source": [
    "### Preliminary"
   ]
  },
  {
   "cell_type": "code",
   "execution_count": 5,
   "metadata": {},
   "outputs": [],
   "source": [
    "import os\n",
    "import sys\n",
    "sys.path.append(os.path.dirname(os.path.dirname(os.path.abspath(os.getcwd()))))\n",
    "from Methdology_Testing.get_news import get_news_links, get_news_sentiment, get_news_text\n",
    "from Technical_Indicators.Mean_Reversion.data_prep import fetch_data"
   ]
  },
  {
   "cell_type": "markdown",
   "metadata": {},
   "source": [
    "### Get Data"
   ]
  },
  {
   "cell_type": "markdown",
   "metadata": {},
   "source": [
    "While the methodology states that the energy companies it has chosen were from the Warsaw stock exchange, the companies I chose were strong US companies belonging to the energy sector"
   ]
  },
  {
   "cell_type": "code",
   "execution_count": 14,
   "metadata": {},
   "outputs": [],
   "source": [
    "XOM_data = fetch_data('XOM', '2023-11-30', '2024-09-18')\n",
    "CVX_data = fetch_data('CVX', '2023-11-30', '2024-09-18')\n",
    "SHEL_data = fetch_data('SHEL', '2023-11-30', '2024-09-18')\n",
    "BP_data = fetch_data('BP', '2023-11-30', '2024-09-18')"
   ]
  },
  {
   "cell_type": "code",
   "execution_count": 11,
   "metadata": {},
   "outputs": [],
   "source": [
    "tickers = ['XOM', 'CVX', 'SHEL', 'BP']\n",
    "news_links = get_news_links(tickers)\n",
    "news_links = get_news_text(news_links)\n",
    "news_links = get_news_sentiment(news_links)"
   ]
  }
 ],
 "metadata": {
  "kernelspec": {
   "display_name": "venv",
   "language": "python",
   "name": "python3"
  },
  "language_info": {
   "codemirror_mode": {
    "name": "ipython",
    "version": 3
   },
   "file_extension": ".py",
   "mimetype": "text/x-python",
   "name": "python",
   "nbconvert_exporter": "python",
   "pygments_lexer": "ipython3",
   "version": "3.11.9"
  }
 },
 "nbformat": 4,
 "nbformat_minor": 2
}
