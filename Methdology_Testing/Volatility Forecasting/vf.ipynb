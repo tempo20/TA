{
 "cells": [
  {
   "cell_type": "markdown",
   "metadata": {},
   "source": [
    "### Preliminary"
   ]
  },
  {
   "cell_type": "code",
   "execution_count": 66,
   "metadata": {},
   "outputs": [],
   "source": [
    "import os\n",
    "import sys\n",
    "import numpy as np # type: ignore\n",
    "import pandas as pd\n",
    "sys.path.append(os.path.dirname(os.path.dirname(os.getcwd())))\n",
    "from Technical_Indicators.Mean_Reversion.data_prep import fetch_data\n",
    "import yfinance # type: ignore\n",
    "from datetime import datetime, timedelta\n"
   ]
  },
  {
   "cell_type": "markdown",
   "metadata": {},
   "source": [
    "### Data Prep"
   ]
  },
  {
   "cell_type": "markdown",
   "metadata": {},
   "source": [
    "#### Realized Volatility"
   ]
  },
  {
   "attachments": {
    "image.png": {
     "image/png": "[encoded data removed]"
    }
   },
   "cell_type": "markdown",
   "metadata": {},
   "source": [
    "![image.png](attachment:image.png)"
   ]
  },
  {
   "cell_type": "markdown",
   "metadata": {},
   "source": [
    "$RV_{t}$ = Daily realized volatility\n",
    "\n",
    "$t$ = Trading Day\n",
    "\n",
    "$\\frac{1}{\\Delta}$ = Trading day split into $\\frac{1}{\\Delta}$  parts\n",
    "\n",
    "$r_{t,i}$ = is the $i^{th}$ intraday return at day $t$ = $100(ln(P_{t, i}) - ln(P_{t, i-1}))$\n",
    "\n",
    "$P_{t, i}$ = is the $i^{th}$ intraday closing price at day $t$\n"
   ]
  },
  {
   "cell_type": "code",
   "execution_count": 46,
   "metadata": {},
   "outputs": [
    {
     "name": "stdout",
     "output_type": "stream",
     "text": [
      "The rv of the data is: 1.009\n"
     ]
    }
   ],
   "source": [
    "def rv(data):\n",
    "    \"\"\"\n",
    "    data: time-series data of a stock for 1 day\n",
    "    \"\"\"\n",
    "    data.loc[:, 'returns'] = 100 * (np.log(data['Close']) - np.log(data['Close'].shift(1)))    \n",
    "    data.loc[:, 'returns_squared'] = data['returns'] ** 2\n",
    "    data = data.dropna()\n",
    "    rv = data['returns_squared'].sum()\n",
    "    return rv\n",
    "\n"
   ]
  },
  {
   "cell_type": "markdown",
   "metadata": {},
   "source": [
    "#### Data Gathering"
   ]
  },
  {
   "cell_type": "markdown",
   "metadata": {},
   "source": [
    "The idea here is to get the RV for each day, and append it to the dataframe for each day"
   ]
  },
  {
   "cell_type": "code",
   "execution_count": 63,
   "metadata": {},
   "outputs": [
    {
     "name": "stderr",
     "output_type": "stream",
     "text": [
      "$XOM: possibly delisted; no price data found  (1m 2024-08-22 -> 2024-08-23) (Yahoo error = \"1m data not available for startTime=1724299200 and endTime=1724385600. The requested range must be within the last 30 days.\")\n",
      "$XOM: possibly delisted; no price data found  (1m 2024-08-23 -> 2024-08-24) (Yahoo error = \"1m data not available for startTime=1724385600 and endTime=1724472000. The requested range must be within the last 30 days.\")\n",
      "$XOM: possibly delisted; no price data found  (1m 2024-08-24 -> 2024-08-25) (Yahoo error = \"1m data not available for startTime=1724472000 and endTime=1724558400. The requested range must be within the last 30 days.\")\n",
      "$XOM: possibly delisted; no price data found  (1m 2024-08-25 -> 2024-08-26)\n",
      "$XOM: possibly delisted; no price data found  (1m 2024-08-31 -> 2024-09-01)\n",
      "$XOM: possibly delisted; no price data found  (1m 2024-09-01 -> 2024-09-02)\n",
      "$XOM: possibly delisted; no price data found  (1m 2024-09-02 -> 2024-09-03)\n",
      "$XOM: possibly delisted; no price data found  (1m 2024-09-07 -> 2024-09-08)\n",
      "$XOM: possibly delisted; no price data found  (1m 2024-09-08 -> 2024-09-09)\n",
      "$XOM: possibly delisted; no price data found  (1m 2024-09-14 -> 2024-09-15)\n",
      "$XOM: possibly delisted; no price data found  (1m 2024-09-15 -> 2024-09-16)\n",
      "$XOM: possibly delisted; no price data found  (1m 2024-09-21 -> 2024-09-22)\n",
      "$XOM: possibly delisted; no price data found  (1m 2024-09-22 -> 2024-09-23)\n"
     ]
    }
   ],
   "source": [
    "start = '2024-08-22'\n",
    "end = '2024-09-23'\n",
    "start= datetime.strptime(start, '%Y-%m-%d')\n",
    "end = datetime.strptime(end, '%Y-%m-%d')\n",
    "all_data = []\n",
    "while start < end:\n",
    "    next_day = start + timedelta(days=1)\n",
    "    temp = fetch_data('XOM', start.strftime('%Y-%m-%d'), next_day.strftime('%Y-%m-%d'), interval='1m')\n",
    "    if not temp.empty:\n",
    "        all_data.append(temp)\n",
    "    start = next_day"
   ]
  },
  {
   "cell_type": "code",
   "execution_count": 70,
   "metadata": {},
   "outputs": [],
   "source": [
    "XOM_history = pd.concat(all_data)"
   ]
  }
 ],
 "metadata": {
  "kernelspec": {
   "display_name": "venv",
   "language": "python",
   "name": "python3"
  },
  "language_info": {
   "codemirror_mode": {
    "name": "ipython",
    "version": 3
   },
   "file_extension": ".py",
   "mimetype": "text/x-python",
   "name": "python",
   "nbconvert_exporter": "python",
   "pygments_lexer": "ipython3",
   "version": "3.11.9"
  }
 },
 "nbformat": 4,
 "nbformat_minor": 2
}
