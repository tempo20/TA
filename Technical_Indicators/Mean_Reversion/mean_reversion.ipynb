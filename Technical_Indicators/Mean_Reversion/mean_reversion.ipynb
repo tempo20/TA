{
 "cells": [
  {
   "cell_type": "code",
   "execution_count": 1,
   "metadata": {},
   "outputs": [],
   "source": [
    "import numpy as np\n",
    "import pandas as pd\n",
    "import pandas_ta as ta"
   ]
  },
  {
   "cell_type": "code",
   "execution_count": 2,
   "metadata": {},
   "outputs": [],
   "source": [
    "def simple_moving_average(df, window):\n",
    "    df2 = df.copy()\n",
    "    df2['MA'] = df2['Close'].rolling(window=window).mean()\n",
    "    return df2\n",
    "def z_score(df, window):\n",
    "    df2 = df.copy()\n",
    "    \n",
    "    df2['Z Score'] = (df2['Close'] - df2['MA']) / df2['Close'].rolling(window=window).std()\n",
    "    return df2\n",
    "def rsi(df, column, window = 14):\n",
    "    delta = df[column].diff()\n",
    "    plus = delta.where(delta > 0, 0)\n",
    "    loss = delta.where(delta < 0, 0)\n",
    "    avg_p = plus.rolling(window=window, min_periods=1).mean()\n",
    "    avg_l = loss.rolling(window=window, min_periods=1).mean()\n",
    "    rs = avg_p/avg_l\n",
    "    rsi = 100 - (100 / (1 + rs))\n",
    "    return rsi\n"
   ]
  },
  {
   "cell_type": "code",
   "execution_count": null,
   "metadata": {},
   "outputs": [],
   "source": [
    "def mean_reversion_strategy(df):\n",
    "    df2 = df.copy()\n",
    "    df2['RSI'] = rsi(df2, 'Close')\n",
    "    df2['Z Score'] = z_score(df2, 'Close')\n",
    "    df2['MA'] = simple_moving_average(df2, 'Close')\n",
    "    df2['Signal'] = np.where(df2['Z Score'] > 1, 1, 0)\n",
    "    df2['Position'] = df2['Signal'].diff()\n",
    "    return df2\n",
    "\n",
    "def backtest(df, strategy):\n",
    "    df2 = df.copy()\n",
    "    df2['Position'] = strategy(df2)\n",
    "    df2['Return'] = df2['Close'].pct_change() * df2['Position'].shift(1)\n",
    "    df2['Cumulative Return'] = (1 + df2['Return']).cumprod() - 1\n",
    "    return df2"
   ]
  }
 ],
 "metadata": {
  "kernelspec": {
   "display_name": "venv",
   "language": "python",
   "name": "python3"
  },
  "language_info": {
   "codemirror_mode": {
    "name": "ipython",
    "version": 3
   },
   "file_extension": ".py",
   "mimetype": "text/x-python",
   "name": "python",
   "nbconvert_exporter": "python",
   "pygments_lexer": "ipython3",
   "version": "3.11.9"
  }
 },
 "nbformat": 4,
 "nbformat_minor": 2
}
