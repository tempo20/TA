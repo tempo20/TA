{
 "cells": [
  {
   "cell_type": "markdown",
   "metadata": {},
   "source": [
    "####  Preliminaries"
   ]
  },
  {
   "cell_type": "code",
   "execution_count": 9,
   "metadata": {},
   "outputs": [],
   "source": [
    "import os\n",
    "import sys\n",
    "import pandas as pd\n",
    "import numpy as np\n",
    "sys.path.append(os.path.dirname(os.path.abspath(os.getcwd())))\n",
    "from Mean_Reversion.data_prep import fetch_data, apply_jcandle"
   ]
  },
  {
   "cell_type": "code",
   "execution_count": 8,
   "metadata": {},
   "outputs": [
    {
     "data": {
      "text/plain": [
       "'c:\\\\Users\\\\Tristan\\\\Desktop\\\\Projects\\\\TA\\\\Technical_Indicators\\\\japanese_candlesticks\\\\Functions'"
      ]
     },
     "execution_count": 8,
     "metadata": {},
     "output_type": "execute_result"
    }
   ],
   "source": [
    "os.path.join(project_root, 'Functions')"
   ]
  },
  {
   "cell_type": "code",
   "execution_count": 10,
   "metadata": {},
   "outputs": [
    {
     "data": {
      "text/plain": [
       "'c:\\\\Users\\\\Tristan\\\\Desktop\\\\Projects\\\\TA'"
      ]
     },
     "execution_count": 10,
     "metadata": {},
     "output_type": "execute_result"
    }
   ],
   "source": [
    "os.path.dirname(os.path.dirname(os.path.abspath(os.getcwd())))"
   ]
  },
  {
   "cell_type": "markdown",
   "metadata": {},
   "source": [
    "#### Fetch Data"
   ]
  },
  {
   "cell_type": "code",
   "execution_count": 6,
   "metadata": {},
   "outputs": [],
   "source": [
    "xom_df = fetch_data('XOM', '2017-11-30', '2024-09-18').drop(['Dividends', 'Stock Splits'], axis = 'columns')"
   ]
  },
  {
   "cell_type": "markdown",
   "metadata": {},
   "source": [
    "#### Data Prep"
   ]
  },
  {
   "cell_type": "code",
   "execution_count": 7,
   "metadata": {},
   "outputs": [
    {
     "data": {
      "text/html": [
       "<div>\n",
       "<style scoped>\n",
       "    .dataframe tbody tr th:only-of-type {\n",
       "        vertical-align: middle;\n",
       "    }\n",
       "\n",
       "    .dataframe tbody tr th {\n",
       "        vertical-align: top;\n",
       "    }\n",
       "\n",
       "    .dataframe thead th {\n",
       "        text-align: right;\n",
       "    }\n",
       "</style>\n",
       "<table border=\"1\" class=\"dataframe\">\n",
       "  <thead>\n",
       "    <tr style=\"text-align: right;\">\n",
       "      <th></th>\n",
       "      <th>Open</th>\n",
       "      <th>High</th>\n",
       "      <th>Low</th>\n",
       "      <th>Close</th>\n",
       "      <th>Volume</th>\n",
       "      <th>j_candle</th>\n",
       "      <th>high_wick_length</th>\n",
       "      <th>low_wick_length</th>\n",
       "      <th>body_length</th>\n",
       "    </tr>\n",
       "    <tr>\n",
       "      <th>Date</th>\n",
       "      <th></th>\n",
       "      <th></th>\n",
       "      <th></th>\n",
       "      <th></th>\n",
       "      <th></th>\n",
       "      <th></th>\n",
       "      <th></th>\n",
       "      <th></th>\n",
       "      <th></th>\n",
       "    </tr>\n",
       "  </thead>\n",
       "  <tbody>\n",
       "    <tr>\n",
       "      <th>2017-11-30 00:00:00-05:00</th>\n",
       "      <td>59.767324</td>\n",
       "      <td>60.455974</td>\n",
       "      <td>59.738333</td>\n",
       "      <td>60.376236</td>\n",
       "      <td>18592700</td>\n",
       "      <td>0.0</td>\n",
       "      <td>0.079739</td>\n",
       "      <td>0.637903</td>\n",
       "      <td>0.608912</td>\n",
       "    </tr>\n",
       "    <tr>\n",
       "      <th>2017-12-01 00:00:00-05:00</th>\n",
       "      <td>60.484986</td>\n",
       "      <td>60.985157</td>\n",
       "      <td>59.738348</td>\n",
       "      <td>60.499481</td>\n",
       "      <td>13779300</td>\n",
       "      <td>0.0</td>\n",
       "      <td>0.485676</td>\n",
       "      <td>0.761133</td>\n",
       "      <td>0.014495</td>\n",
       "    </tr>\n",
       "    <tr>\n",
       "      <th>2017-12-04 00:00:00-05:00</th>\n",
       "      <td>60.318235</td>\n",
       "      <td>61.021381</td>\n",
       "      <td>60.166009</td>\n",
       "      <td>60.579197</td>\n",
       "      <td>12597700</td>\n",
       "      <td>0.0</td>\n",
       "      <td>0.442184</td>\n",
       "      <td>0.413188</td>\n",
       "      <td>0.260961</td>\n",
       "    </tr>\n",
       "    <tr>\n",
       "      <th>2017-12-05 00:00:00-05:00</th>\n",
       "      <td>60.463216</td>\n",
       "      <td>60.724172</td>\n",
       "      <td>59.955789</td>\n",
       "      <td>60.086269</td>\n",
       "      <td>9357200</td>\n",
       "      <td>1.0</td>\n",
       "      <td>0.260956</td>\n",
       "      <td>0.507427</td>\n",
       "      <td>0.376947</td>\n",
       "    </tr>\n",
       "    <tr>\n",
       "      <th>2017-12-06 00:00:00-05:00</th>\n",
       "      <td>60.057284</td>\n",
       "      <td>60.310996</td>\n",
       "      <td>59.593354</td>\n",
       "      <td>59.644096</td>\n",
       "      <td>13398900</td>\n",
       "      <td>1.0</td>\n",
       "      <td>0.253711</td>\n",
       "      <td>0.463930</td>\n",
       "      <td>0.413188</td>\n",
       "    </tr>\n",
       "    <tr>\n",
       "      <th>...</th>\n",
       "      <td>...</td>\n",
       "      <td>...</td>\n",
       "      <td>...</td>\n",
       "      <td>...</td>\n",
       "      <td>...</td>\n",
       "      <td>...</td>\n",
       "      <td>...</td>\n",
       "      <td>...</td>\n",
       "      <td>...</td>\n",
       "    </tr>\n",
       "    <tr>\n",
       "      <th>2024-09-11 00:00:00-04:00</th>\n",
       "      <td>110.779999</td>\n",
       "      <td>110.949997</td>\n",
       "      <td>107.769997</td>\n",
       "      <td>109.720001</td>\n",
       "      <td>19571900</td>\n",
       "      <td>1.0</td>\n",
       "      <td>0.169998</td>\n",
       "      <td>3.010002</td>\n",
       "      <td>1.059998</td>\n",
       "    </tr>\n",
       "    <tr>\n",
       "      <th>2024-09-12 00:00:00-04:00</th>\n",
       "      <td>109.900002</td>\n",
       "      <td>111.330002</td>\n",
       "      <td>109.760002</td>\n",
       "      <td>111.230003</td>\n",
       "      <td>15923300</td>\n",
       "      <td>0.0</td>\n",
       "      <td>0.099998</td>\n",
       "      <td>1.470001</td>\n",
       "      <td>1.330002</td>\n",
       "    </tr>\n",
       "    <tr>\n",
       "      <th>2024-09-13 00:00:00-04:00</th>\n",
       "      <td>111.470001</td>\n",
       "      <td>112.470001</td>\n",
       "      <td>110.930000</td>\n",
       "      <td>111.150002</td>\n",
       "      <td>10035400</td>\n",
       "      <td>1.0</td>\n",
       "      <td>1.000000</td>\n",
       "      <td>0.540001</td>\n",
       "      <td>0.320000</td>\n",
       "    </tr>\n",
       "    <tr>\n",
       "      <th>2024-09-16 00:00:00-04:00</th>\n",
       "      <td>112.050003</td>\n",
       "      <td>113.089996</td>\n",
       "      <td>111.690002</td>\n",
       "      <td>112.709999</td>\n",
       "      <td>11729000</td>\n",
       "      <td>0.0</td>\n",
       "      <td>0.379997</td>\n",
       "      <td>1.019997</td>\n",
       "      <td>0.659996</td>\n",
       "    </tr>\n",
       "    <tr>\n",
       "      <th>2024-09-17 00:00:00-04:00</th>\n",
       "      <td>112.320000</td>\n",
       "      <td>114.370003</td>\n",
       "      <td>112.120003</td>\n",
       "      <td>114.180000</td>\n",
       "      <td>12202600</td>\n",
       "      <td>0.0</td>\n",
       "      <td>0.190002</td>\n",
       "      <td>2.059998</td>\n",
       "      <td>1.860001</td>\n",
       "    </tr>\n",
       "  </tbody>\n",
       "</table>\n",
       "<p>1709 rows × 9 columns</p>\n",
       "</div>"
      ],
      "text/plain": [
       "                                 Open        High         Low       Close  \\\n",
       "Date                                                                        \n",
       "2017-11-30 00:00:00-05:00   59.767324   60.455974   59.738333   60.376236   \n",
       "2017-12-01 00:00:00-05:00   60.484986   60.985157   59.738348   60.499481   \n",
       "2017-12-04 00:00:00-05:00   60.318235   61.021381   60.166009   60.579197   \n",
       "2017-12-05 00:00:00-05:00   60.463216   60.724172   59.955789   60.086269   \n",
       "2017-12-06 00:00:00-05:00   60.057284   60.310996   59.593354   59.644096   \n",
       "...                               ...         ...         ...         ...   \n",
       "2024-09-11 00:00:00-04:00  110.779999  110.949997  107.769997  109.720001   \n",
       "2024-09-12 00:00:00-04:00  109.900002  111.330002  109.760002  111.230003   \n",
       "2024-09-13 00:00:00-04:00  111.470001  112.470001  110.930000  111.150002   \n",
       "2024-09-16 00:00:00-04:00  112.050003  113.089996  111.690002  112.709999   \n",
       "2024-09-17 00:00:00-04:00  112.320000  114.370003  112.120003  114.180000   \n",
       "\n",
       "                             Volume  j_candle  high_wick_length  \\\n",
       "Date                                                              \n",
       "2017-11-30 00:00:00-05:00  18592700       0.0          0.079739   \n",
       "2017-12-01 00:00:00-05:00  13779300       0.0          0.485676   \n",
       "2017-12-04 00:00:00-05:00  12597700       0.0          0.442184   \n",
       "2017-12-05 00:00:00-05:00   9357200       1.0          0.260956   \n",
       "2017-12-06 00:00:00-05:00  13398900       1.0          0.253711   \n",
       "...                             ...       ...               ...   \n",
       "2024-09-11 00:00:00-04:00  19571900       1.0          0.169998   \n",
       "2024-09-12 00:00:00-04:00  15923300       0.0          0.099998   \n",
       "2024-09-13 00:00:00-04:00  10035400       1.0          1.000000   \n",
       "2024-09-16 00:00:00-04:00  11729000       0.0          0.379997   \n",
       "2024-09-17 00:00:00-04:00  12202600       0.0          0.190002   \n",
       "\n",
       "                           low_wick_length  body_length  \n",
       "Date                                                     \n",
       "2017-11-30 00:00:00-05:00         0.637903     0.608912  \n",
       "2017-12-01 00:00:00-05:00         0.761133     0.014495  \n",
       "2017-12-04 00:00:00-05:00         0.413188     0.260961  \n",
       "2017-12-05 00:00:00-05:00         0.507427     0.376947  \n",
       "2017-12-06 00:00:00-05:00         0.463930     0.413188  \n",
       "...                                    ...          ...  \n",
       "2024-09-11 00:00:00-04:00         3.010002     1.059998  \n",
       "2024-09-12 00:00:00-04:00         1.470001     1.330002  \n",
       "2024-09-13 00:00:00-04:00         0.540001     0.320000  \n",
       "2024-09-16 00:00:00-04:00         1.019997     0.659996  \n",
       "2024-09-17 00:00:00-04:00         2.059998     1.860001  \n",
       "\n",
       "[1709 rows x 9 columns]"
      ]
     },
     "execution_count": 7,
     "metadata": {},
     "output_type": "execute_result"
    }
   ],
   "source": [
    "apply_jcandle(xom_df)"
   ]
  },
  {
   "cell_type": "markdown",
   "metadata": {},
   "source": [
    "def "
   ]
  }
 ],
 "metadata": {
  "kernelspec": {
   "display_name": "venv",
   "language": "python",
   "name": "python3"
  },
  "language_info": {
   "codemirror_mode": {
    "name": "ipython",
    "version": 3
   },
   "file_extension": ".py",
   "mimetype": "text/x-python",
   "name": "python",
   "nbconvert_exporter": "python",
   "pygments_lexer": "ipython3",
   "version": "3.11.9"
  }
 },
 "nbformat": 4,
 "nbformat_minor": 2
}
